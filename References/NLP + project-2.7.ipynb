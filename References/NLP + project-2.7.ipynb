{
 "cells": [
  {
   "cell_type": "code",
   "execution_count": 1,
   "metadata": {},
   "outputs": [],
   "source": [
    "import numpy as np\n",
    "import random\n",
    "import string"
   ]
  },
  {
   "cell_type": "code",
   "execution_count": 2,
   "metadata": {},
   "outputs": [],
   "source": [
    "import re\n",
    "REGRESSION_INPUTS = ['Linear Regression', 'Decision Tree Regression' , 'Support Vector Regression ','Lasso Regression','Ridge Regression',\n",
    "                      'Random Forest Regression']\n",
    "\n",
    "CLASSIFICATION_INPUTS  = ['Logistic Regression','Naive Bayes','Stochastic Gradient Descent','K-Nearest Neighbours',\n",
    "                         'Decision Tree classifier','Decision Tree Classification', 'Random Forest classifier',\n",
    "                          'Random Forest Classification', 'Support Vector Machine']\n",
    "\n",
    "DEEPLEARNING_INPUTS = ['Convolutional Neural Network','Long Short Term Memory Networks (LSTMs)',\n",
    "                       'Recurrent Neural Networks (RNNs)', 'BERT', 'Transfer Learning']\n",
    "\n",
    "\n",
    "HELLO_INPUTS = ('hi', 'hello', 'whats up', 'hi there')\n",
    "HELLO_OUTPUTS = ['Hi there', 'hello']\n",
    "\n"
   ]
  },
  {
   "cell_type": "code",
   "execution_count": 3,
   "metadata": {},
   "outputs": [],
   "source": [
    "DOING_INPUTS = ('happening', 'doing', 'been')\n",
    "DOING_OUTPUTS = ['I am doing fine', 'Nothing, just waiting for you']"
   ]
  },
  {
   "cell_type": "code",
   "execution_count": 4,
   "metadata": {},
   "outputs": [],
   "source": [
    "THANKS_INPUTS = ('thank you', 'thanks')\n",
    "THANKS_OUTPUTS = ['Thanks', 'Thank you too', 'its my pleasure', 'Thanks, So whats your query for today?']"
   ]
  },
  {
   "cell_type": "code",
   "execution_count": 5,
   "metadata": {},
   "outputs": [],
   "source": [
    "BYE_INPUTS = ('bye', 'bi', 'bbye', 'bood bye', 'bye See ya', 'bye see you soon')\n",
    "BYE_OUTPUTS = ['bye', 'asta la vista', 'Take care', 'bye, Have a great day']\n",
    "\n",
    "\n",
    "DATASET_PRO_INPUT = ('dataset', 'i wan to run a few algorithms on my dataset', 'I want to process my dataset')\n",
    "DATASET_PRO_OUTPUT = ['Oh great, so you have come at the right place to process your dataset', 'Oh so lets solve some problems on your dataset']\n",
    "\n"
   ]
  },
  {
   "cell_type": "code",
   "execution_count": 6,
   "metadata": {},
   "outputs": [],
   "source": [
    "ML_ALGO_INPUT = ('I want to run ml algorithm' , ' I want to run a few machine learning algorithms on my dataset',\n",
    "                 'I want to run a few deep learning algorithms on my dataset', 'machine learning', 'ml', 'deep learning')\n",
    "ML_ALGO_OUTPUT = ['Wonderful , but can you tell me which specific machine learning algorithm type, classification, regression or deep learning?',\n",
    "                  'Wonderful , but can you tell me which specific ML algorithm you would like to run, classification, regression or deep learning?']"
   ]
  },
  {
   "cell_type": "code",
   "execution_count": 7,
   "metadata": {},
   "outputs": [],
   "source": [
    "CLASS_ALGO_INPUT = ('classification', 'classification algorithm','I would like to run classification algorithm','well it would be classification')\n",
    "                  \n",
    "CLASS_ALGO_OUTPUT = ['Great , So which classification algorithm?', 'Ok, so may I know the specific classification algorithm',\n",
    "                     'wonderful, so which classification algorithm']"
   ]
  },
  {
   "cell_type": "code",
   "execution_count": 8,
   "metadata": {},
   "outputs": [],
   "source": [
    "REGR_ALGO_INPUT = ('regression' , 'regression algorithm' , 'I would like to run regression algorithm',\n",
    "                   'well it would be regression')\n",
    "REGR_ALGO_OUTPUT = ['Great , So which regression algorithm?', 'Ok, so may I know the specific regression algorithm',\n",
    "                     'wonderful, so which regression algorithm']"
   ]
  },
  {
   "cell_type": "code",
   "execution_count": 9,
   "metadata": {},
   "outputs": [],
   "source": [
    "DEEP_ALGO_INPUT = ('deep')\n",
    "DEEP_ALGO_OUTPUT = ['Great , So which Deep Learning algorithm?', 'Ok, so may I know the specific deep learning algorithm',\n",
    "                     'wonderful, so which deep learning algorithm']\n"
   ]
  },
  {
   "cell_type": "code",
   "execution_count": 10,
   "metadata": {},
   "outputs": [],
   "source": [
    "# DATASET_PRO_INPUT = ('dataset', 'i wan to run a few algorithms on my dataset', 'I want to process my dataset')\n",
    "# DATASET_PRO_INPUT = ['Oh great, so you have come at the right place to process your dataset', 'Oh so lets solve some problems on your dataset']\n",
    "def dasetAlgorithm(sentence):\n",
    "    for word in sentence.split():\n",
    "        if word.lower() in DATASET_PRO_INPUT:\n",
    "            return random.choice(DATASET_PRO_OUTPUT)\n",
    "\n",
    "# def hloAlgorithm(sentence):\n",
    "#     for word in sentence.split():\n",
    "#         if word.lower() in HELLO_INPUTS:\n",
    "#             return random.choice(HELLO_OUTPUTS)"
   ]
  },
  {
   "cell_type": "code",
   "execution_count": 11,
   "metadata": {},
   "outputs": [],
   "source": [
    "   \n",
    "def mlalAlgorithm(sentence):\n",
    "    for word in sentence.split():\n",
    "        if word.lower() in ML_ALGO_INPUT:\n",
    "            return random.choice(ML_ALGO_OUTPUT)"
   ]
  },
  {
   "cell_type": "code",
   "execution_count": 12,
   "metadata": {},
   "outputs": [],
   "source": [
    "def CLASS_ALGO_INPUT_Algorithm(sentence):\n",
    "    for word in sentence.split():\n",
    "        if word.lower() in CLASS_ALGO_INPUT:\n",
    "            return random.choice(CLASS_ALGO_OUTPUT)\n"
   ]
  },
  {
   "cell_type": "code",
   "execution_count": 13,
   "metadata": {},
   "outputs": [],
   "source": [
    "def REGRESSION_ALGO_INPUT_Algorithm(sentence):\n",
    "    for word in sentence.split():\n",
    "        if word.lower() in REGR_ALGO_INPUT:\n",
    "            return random.choice(REGR_ALGO_OUTPUT)"
   ]
  },
  {
   "cell_type": "code",
   "execution_count": 14,
   "metadata": {},
   "outputs": [],
   "source": [
    "def DEEP_ALGO_INPUT_Algorithm(sentence):\n",
    "    for word in sentence.split():\n",
    "        if word.lower() in DEEP_ALGO_INPUT:\n",
    "            return random.choice(DEEP_ALGO_OUTPUT)"
   ]
  },
  {
   "cell_type": "code",
   "execution_count": 15,
   "metadata": {
    "scrolled": true
   },
   "outputs": [],
   "source": [
    "def tnkssAlgorithm(sentence):\n",
    "    \n",
    "    for word in sentence.split():\n",
    "        if word.lower() in THANKS_INPUTS:\n",
    "            return random.choice(THANKS_OUTPUTS)"
   ]
  },
  {
   "cell_type": "code",
   "execution_count": 16,
   "metadata": {},
   "outputs": [],
   "source": [
    "def hloAlgorithm(sentence):\n",
    "    for word in sentence.split():\n",
    "        if word.lower() in HELLO_INPUTS:\n",
    "            return random.choice(HELLO_OUTPUTS)"
   ]
  },
  {
   "cell_type": "code",
   "execution_count": 17,
   "metadata": {},
   "outputs": [],
   "source": [
    "def doinAlgorithm(sentence):\n",
    "    for word in sentence.split():\n",
    "        if word.lower() in DOING_INPUTS:\n",
    "            return random.choice(DOING_OUTPUTS)\n"
   ]
  },
  {
   "cell_type": "code",
   "execution_count": 18,
   "metadata": {},
   "outputs": [],
   "source": [
    "def byeAlgorithm(sentence):\n",
    "    for word in sentence.split():\n",
    "        if word.lower() in BYE_INPUTS:\n",
    "            return random.choice(BYE_OUTPUTS)"
   ]
  },
  {
   "cell_type": "code",
   "execution_count": 19,
   "metadata": {},
   "outputs": [
    {
     "name": "stdout",
     "output_type": "stream",
     "text": [
      "length of regression list is:  6\n"
     ]
    }
   ],
   "source": [
    "def regAlgorithm(sentence):\n",
    "#     r = re.compile(\".*{}.*\" .format(sentence))\n",
    "#     matchedStr = str(filter(r.match, REGRESSION_INPUTS)) # Read Note below\n",
    "#     print(matchedStr)\n",
    "    count = 1\n",
    "    for pattern in REGRESSION_INPUTS:\n",
    "        \n",
    "        if count <= len(REGRESSION_INPUTS):\n",
    "        \n",
    "            if re.search(pattern.lower(), sentence):\n",
    "                \n",
    "                    Robo_response = pattern + \" thats wonderful, Now may I know the target label for your dataset\"\n",
    "                    return Robo_response\n",
    "                    \n",
    "#             else:\n",
    "#                     if count == len(REGRESSION_INPUTS):\n",
    "#                           return \"Could you be more specific!\" \n",
    "                        \n",
    "                    count = count+1\n",
    "                    \n",
    "print(\"length of regression list is: \" ,len(REGRESSION_INPUTS)) "
   ]
  },
  {
   "cell_type": "code",
   "execution_count": 20,
   "metadata": {},
   "outputs": [
    {
     "name": "stdout",
     "output_type": "stream",
     "text": [
      "length of classification list is:  9\n"
     ]
    }
   ],
   "source": [
    "def claAlgorithm(sentence):\n",
    "#     r = re.compile(\".*{}.*\" .format(sentence))\n",
    "#     matchedStr = str(filter(r.match, REGRESSION_INPUTS)) # Read Note below\n",
    "#     print(matchedStr)\n",
    "    count = 1\n",
    "    for pattern in CLASSIFICATION_INPUTS:\n",
    "        \n",
    "        if count <= len(CLASSIFICATION_INPUTS):\n",
    "        \n",
    "            if re.search(pattern.lower(), sentence):\n",
    "                \n",
    "                    Robo_response = pattern +  \" thats wonderful, Now may I know the target label for your dataset\"\n",
    "                    return Robo_response\n",
    "                    \n",
    "#             else:\n",
    "#                     if count == len(REGRESSION_INPUTS):\n",
    "#                           return \"Could you be more specific!\" \n",
    "                        \n",
    "                    count = count+1\n",
    "                    \n",
    "print(\"length of classification list is: \" ,len(CLASSIFICATION_INPUTS))  "
   ]
  },
  {
   "cell_type": "code",
   "execution_count": 21,
   "metadata": {},
   "outputs": [
    {
     "name": "stdout",
     "output_type": "stream",
     "text": [
      "length of regression list is:  5\n"
     ]
    }
   ],
   "source": [
    "def deepAlgorithm(sentence):\n",
    "#     r = re.compile(\".*{}.*\" .format(sentence))\n",
    "#     matchedStr = str(filter(r.match, REGRESSION_INPUTS)) # Read Note below\n",
    "#     print(matchedStr)\n",
    "    count = 1\n",
    "    for pattern in DEEPLEARNING_INPUTS:\n",
    "        \n",
    "        if count <= len(DEEPLEARNING_INPUTS):\n",
    "        \n",
    "            if re.search(pattern.lower(), sentence):\n",
    "                    \n",
    "                    Robo_response = pattern +  \" thats wonderful, Now may I know the target label for your dataset\"\n",
    "                    return Robo_response\n",
    "                    \n",
    "#             else:\n",
    "#                     if count == len(REGRESSION_INPUTS):\n",
    "#                           return \"Could you be more specific!\" \n",
    "                        \n",
    "                    count = count+1\n",
    "                    \n",
    "print(\"length of regression list is: \" ,len(DEEPLEARNING_INPUTS))"
   ]
  },
  {
   "cell_type": "code",
   "execution_count": 22,
   "metadata": {},
   "outputs": [
    {
     "name": "stdout",
     "output_type": "stream",
     "text": [
      "ROBO: My name is Robo. I will answer your queries about Chatbots. If you want to exit, type Bye!\n",
      "Hi , how are you doing\n",
      "ROBO:  Nothing, just waiting for you\n",
      "great I want to run a few deep learning algorithms\n",
      "ROBO:  Great , So which Deep Learning algorithm?\n",
      "bye\n",
      "ROBO:  asta la vista\n"
     ]
    }
   ],
   "source": [
    "exitFlag=True\n",
    "regAlgo = False\n",
    "claAlgo = False\n",
    "deepAlgo = False\n",
    "linkFlag = False\n",
    "\n",
    "print(\"ROBO: My name is Robo. I will answer your queries about Chatbots. If you want to exit, type Bye!\")\n",
    "\n",
    "while(exitFlag==True):\n",
    "    \n",
    "    user_response = input()\n",
    "    \n",
    "    user_response=user_response.lower()\n",
    "    \n",
    "#     if(user_response == 'bye'):\n",
    "        \n",
    "#         flag=False\n",
    "#         print(\"ROBO: Bye! take care..\") \n",
    "    \n",
    "    \n",
    "#     elif(user_response=='thanks' or user_response=='thank you' ):\n",
    "#             flag=False\n",
    "\n",
    "            \n",
    "#             print(\"ROBO: You are welcome..\")\n",
    "       \n",
    "            \n",
    "    \n",
    "#             if(greeting(user_response)!=None):\n",
    "                \n",
    "#                 print(\"ROBO: \"+greeting(user_response))\n",
    "    \n",
    "    \n",
    "    if(doinAlgorithm(user_response)!= None):        \n",
    "             print(\"ROBO: \" , doinAlgorithm(user_response))\n",
    "            \n",
    "    elif(linkFlag == True):\n",
    "\n",
    "        link_use_resp = user_response\n",
    "\n",
    "        pattern_link = r'https://.*'\n",
    "        count_link = 1\n",
    "\n",
    "        for final_link in link_use_resp.split():\n",
    "\n",
    "                if re.search(pattern_link, final_link):\n",
    "\n",
    "                    print(\"ROBO: Thanks for the link {}, Do you want to do anymore preprocessing on the data\" .format(final_link))\n",
    "                    linkFlag = False\n",
    "                    break\n",
    "                else:\n",
    "\n",
    "                    if (count_link == len(link_use_resp.split())):\n",
    "                        print(\"please provide the correct link\")\n",
    "                        break\n",
    "                    else:\n",
    "                        count_link = count_link + 1                   \n",
    "\n",
    "\n",
    "\n",
    "    elif(regAlgo == True):\n",
    "\n",
    "            w = []\n",
    "\n",
    "            for word in user_response.split():\n",
    "\n",
    "                w.append(word)\n",
    "\n",
    "                last_word_label = w[len(w)-1]\n",
    "\n",
    "\n",
    "            print(\"ROBO: So {} would be your target/label , seems good, now can you provide me link for the dataset\" \n",
    "                  .format(last_word_label)) \n",
    "\n",
    "            regAlgo = False\n",
    "\n",
    "            linkFlag = True \n",
    "\n",
    "\n",
    "\n",
    "    elif(claAlgo == True):\n",
    "\n",
    "            w = []\n",
    "\n",
    "            for word in user_response.split():\n",
    "\n",
    "                w.append(word)\n",
    "\n",
    "                last_word_label = w[len(w)-1]\n",
    "\n",
    "\n",
    "            print(\"ROBO: So {} would be your target/label , seems good, now can you provide me link for the dataset\" \n",
    "                  .format(last_word_label)) \n",
    "\n",
    "            claAlgo = False\n",
    "\n",
    "            linkFlag = True\n",
    "\n",
    "\n",
    "    \n",
    "    elif(deepAlgo == True):\n",
    "\n",
    "            w = []\n",
    "\n",
    "            for word in user_response.split():\n",
    "\n",
    "                w.append(word)\n",
    "\n",
    "                last_word_label = w[len(w)-1]\n",
    "\n",
    "\n",
    "            print(\"ROBO: So {} would be your target/label , seems good, now can you provide me link for the dataset\" \n",
    "                  .format(last_word_label)) \n",
    "\n",
    "            deepAlgo = False\n",
    "\n",
    "            linkFlag = True \n",
    "\n",
    "\n",
    "\n",
    "    elif(regAlgorithm(user_response) != None) :                \n",
    "\n",
    "\n",
    "            robo_response = regAlgorithm(user_response)\n",
    "            regAlgo = True\n",
    "\n",
    "\n",
    "            print(\"ROBO: \", robo_response)\n",
    "\n",
    "\n",
    "\n",
    "#                     sent_tokens.append(user_response)\n",
    "\n",
    "#                     word_tokens=word_tokens + nltk.word_tokenize(user_response)\n",
    "\n",
    "#                     final_words=list(set(word_tokens))\n",
    "\n",
    "#                     print(\"ROBO: \",end=\"\")\n",
    "\n",
    "\n",
    "\n",
    "#                     sent_tokens.remove(user_response)\n",
    "\n",
    "    elif(claAlgorithm(user_response) != None) :                \n",
    "\n",
    "\n",
    "            robo_response = claAlgorithm(user_response)\n",
    "            claAlgo = True\n",
    "\n",
    "\n",
    "            print(\"ROBO: \", robo_response)\n",
    "\n",
    "    elif(deepAlgorithm(user_response) != None) :                \n",
    "\n",
    "\n",
    "            robo_response = deepAlgorithm(user_response)\n",
    "            deepAlgo = True\n",
    "\n",
    "\n",
    "            print(\"ROBO: \", robo_response)\n",
    "\n",
    "    elif(hloAlgorithm(user_response) != None):\n",
    "        \n",
    "             print(\"ROBO: \" , hloAlgorithm(user_response))\n",
    "            \n",
    "    \n",
    "    \n",
    "    elif(tnkssAlgorithm(user_response) != None):\n",
    "        \n",
    "             print(\"ROBO: \", tnkssAlgorithm(user_response))\n",
    "            \n",
    "    elif(dasetAlgorithm(user_response) != None):\n",
    "\n",
    "             print(\"ROBO: \", dasetAlgorithm(user_response))\n",
    "    \n",
    "    elif(mlalAlgorithm(user_response)!=None):\n",
    "\n",
    "             print(\"ROBO :\", mlalAlgorithm(user_response))\n",
    "            \n",
    "    elif(CLASS_ALGO_INPUT_Algorithm(user_response)!=None):\n",
    "\n",
    "             print(\"ROBO: \" , CLASS_ALGO_INPUT_Algorithm(user_response))\n",
    "            \n",
    "    elif(REGRESSION_ALGO_INPUT_Algorithm(user_response)!=None):\n",
    "\n",
    "             print(\"ROBO: \" , REGRESSION_ALGO_INPUT_Algorithm(user_response))\n",
    "            \n",
    "    elif(DEEP_ALGO_INPUT_Algorithm(user_response)!=None):\n",
    "\n",
    "             print(\"ROBO: \" , DEEP_ALGO_INPUT_Algorithm(user_response))\n",
    "            \n",
    "    elif(byeAlgorithm(user_response)!=None):\n",
    "             \n",
    "             print(\"ROBO: \", byeAlgorithm(user_response))\n",
    "             \n",
    "             exitFlag = False\n"
   ]
  },
  {
   "cell_type": "code",
   "execution_count": 23,
   "metadata": {},
   "outputs": [],
   "source": [
    "#     elif(dasetAlgorithm(user_response)! = None):\n",
    "\n",
    "#                  print(\"ROBO: \", dasetAlgorithm(user_response))\n",
    "\n",
    "#     # mlalAlgorithm\n",
    "#         elif(mlalAlgorithm(user_response)!=None):\n",
    "\n",
    "#                  print(\"ROBO :\", mlalAlgorithm(user_response))\n",
    "\n",
    "#     # CLASS_ALGO_INPUT_Algorithm  \n",
    "\n",
    "#         elif(CLASS_ALGO_INPUT_Algorithm(user_response)!=None):\n",
    "\n",
    "#                 print(\"ROBO: \" , CLASS_ALGO_INPUT_Algorithm(user_response))\n",
    "\n",
    "#         elif(REGRESSION_ALGO_INPUT_Algorithm(user_response)!=None):\n",
    "\n",
    "#                 print(\"ROBO: \" , REGRESSION_ALGO_INPUT_Algorithm(user_response))\n",
    "\n",
    "#         elif(DEEP_ALGO_INPUT_Algorithm(user_response)!=None):\n",
    "\n",
    "#                 print(\"ROBO: \" , DEEP_ALGO_INPUT_Algorithm(user_response))        \n",
    "\n",
    "#         elif(byeAlgorithm(user_response)!=None):\n",
    "\n",
    "#                  print(\"ROBO: \", byeAlgorithm(user_response))"
   ]
  },
  {
   "cell_type": "code",
   "execution_count": 24,
   "metadata": {},
   "outputs": [],
   "source": [
    "DOING_INPUTS = ('how doing', 'how going')\n",
    "DOING_OUTPUTS = ['Doing good', 'Doing excellent']"
   ]
  },
  {
   "cell_type": "code",
   "execution_count": 25,
   "metadata": {},
   "outputs": [],
   "source": [
    "def doingAlgorithm(sentence):\n",
    "    for word in sentence.split():\n",
    "        if word.lower() in DOING_INPUTS:\n",
    "            return random.choice(DOING_OUTPUTS)"
   ]
  },
  {
   "cell_type": "code",
   "execution_count": 26,
   "metadata": {},
   "outputs": [
    {
     "name": "stdout",
     "output_type": "stream",
     "text": [
      "wrong output\n"
     ]
    }
   ],
   "source": []
  },
  {
   "cell_type": "code",
   "execution_count": null,
   "metadata": {},
   "outputs": [],
   "source": []
  }
 ],
 "metadata": {
  "kernelspec": {
   "display_name": "Python 3",
   "language": "python",
   "name": "python3"
  },
  "language_info": {
   "codemirror_mode": {
    "name": "ipython",
    "version": 3
   },
   "file_extension": ".py",
   "mimetype": "text/x-python",
   "name": "python",
   "nbconvert_exporter": "python",
   "pygments_lexer": "ipython3",
   "version": "3.8.5"
  }
 },
 "nbformat": 4,
 "nbformat_minor": 4
}
